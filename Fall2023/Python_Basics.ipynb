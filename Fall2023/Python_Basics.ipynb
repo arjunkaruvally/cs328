{
 "cells": [
  {
   "cell_type": "markdown",
   "metadata": {
    "id": "0K_ztNpRO3yG"
   },
   "source": [
    "# Introduction to Python\n"
   ]
  },
  {
   "cell_type": "markdown",
   "metadata": {
    "id": "doBNc4oKR4v6"
   },
   "source": [
    "Python is a high-level, dynamically typed programming language. Python code is often said to be almost like pseudocode, since it allows you to express very powerful ideas in very few lines of code while maintaining readability."
   ]
  },
  {
   "cell_type": "markdown",
   "metadata": {
    "id": "IPZwaUiTSBKK"
   },
   "source": [
    "\n",
    "\n",
    "## Basic Data Types\n",
    "\n"
   ]
  },
  {
   "cell_type": "markdown",
   "metadata": {
    "id": "0yIoANx1SbUw"
   },
   "source": [
    "Integers and floats work as you would expect from other languages"
   ]
  },
  {
   "cell_type": "code",
   "execution_count": null,
   "metadata": {
    "colab": {
     "base_uri": "https://localhost:8080/"
    },
    "id": "wnzcSzUNSpEA",
    "outputId": "aca02566-624e-4fcc-87fb-787ef08e1efd"
   },
   "outputs": [
    {
     "name": "stdout",
     "output_type": "stream",
     "text": [
      "3 <class 'int'>\n"
     ]
    }
   ],
   "source": [
    "x = 3\n",
    "print(x, type(x))"
   ]
  },
  {
   "cell_type": "code",
   "execution_count": null,
   "metadata": {
    "colab": {
     "base_uri": "https://localhost:8080/"
    },
    "id": "jz4x7ks2Sw-Q",
    "outputId": "c6e0b12d-114d-4754-d494-bf1563b8954d"
   },
   "outputs": [
    {
     "name": "stdout",
     "output_type": "stream",
     "text": [
      "<class 'float'>\n",
      "2.5 3.5 5.0 6.25\n"
     ]
    }
   ],
   "source": [
    "y = 2.5\n",
    "print(type(y)) # Prints \"<type 'float'>\"\n",
    "print(y, y + 1, y * 2, y ** 2) # Prints \"2.5 3.5 5.0 6.25\""
   ]
  },
  {
   "cell_type": "markdown",
   "metadata": {
    "id": "YbQ6mswZS-7u"
   },
   "source": [
    "Python functions are defined using the def keyword. For example:"
   ]
  },
  {
   "cell_type": "code",
   "execution_count": null,
   "metadata": {
    "colab": {
     "base_uri": "https://localhost:8080/"
    },
    "id": "26M2d07sTBVc",
    "outputId": "dd50c6b5-82fc-48cc-9ce8-be8d3dcf650c"
   },
   "outputs": [
    {
     "name": "stdout",
     "output_type": "stream",
     "text": [
      "-1 is negative\n",
      "0 is zero\n",
      "1 is positive\n"
     ]
    }
   ],
   "source": [
    "def sign(x):\n",
    "    if x > 0:\n",
    "        return 'positive'\n",
    "    elif x < 0:\n",
    "        return 'negative'\n",
    "    else:\n",
    "        return 'zero'\n",
    "\n",
    "for x in range(-1, 2):\n",
    "    print(\"{} is {}\".format(x, sign(x)))"
   ]
  },
  {
   "cell_type": "markdown",
   "metadata": {
    "id": "G4X4hGwGVNaq"
   },
   "source": [
    "Booleans: Python implements all of the usual operators for Boolean logic, but uses English words rather than symbols (&&, ||, etc.):"
   ]
  },
  {
   "cell_type": "code",
   "execution_count": null,
   "metadata": {
    "colab": {
     "base_uri": "https://localhost:8080/"
    },
    "id": "_VlKFkLZVt6q",
    "outputId": "2fc9a138-aa2e-447c-b4ef-fde423228c70"
   },
   "outputs": [
    {
     "name": "stdout",
     "output_type": "stream",
     "text": [
      "<class 'bool'>\n"
     ]
    }
   ],
   "source": [
    "t, f = True, False\n",
    "print(type(t)) # Prints \"<type 'bool'>\""
   ]
  },
  {
   "cell_type": "markdown",
   "metadata": {
    "id": "gJCUNEf9V7Sj"
   },
   "source": [
    "Now we let's look at the operations:"
   ]
  },
  {
   "cell_type": "code",
   "execution_count": null,
   "metadata": {
    "colab": {
     "base_uri": "https://localhost:8080/"
    },
    "id": "ekE-nTplWCkw",
    "outputId": "64b60c10-e95f-4454-d0d8-5d6355c7d168"
   },
   "outputs": [
    {
     "name": "stdout",
     "output_type": "stream",
     "text": [
      "False\n",
      "True\n",
      "False\n",
      "True\n"
     ]
    }
   ],
   "source": [
    "print(t and f) # Logical AND;\n",
    "print(t or f)  # Logical OR;\n",
    "print(not t)   # Logical NOT;\n",
    "print(t != f)  # Logical XOR;"
   ]
  },
  {
   "cell_type": "markdown",
   "metadata": {
    "id": "gEiDca6sTMtr"
   },
   "source": [
    "We will often define functions to take optional keyword arguments where we supply a default if the argument is not passed, like this:"
   ]
  },
  {
   "cell_type": "code",
   "execution_count": null,
   "metadata": {
    "colab": {
     "base_uri": "https://localhost:8080/"
    },
    "id": "m0AxsDsuTO8C",
    "outputId": "38c98d48-689a-4265-df26-796591d889b3"
   },
   "outputs": [
    {
     "name": "stdout",
     "output_type": "stream",
     "text": [
      "Hello Bob\n",
      "HELLO FRED\n",
      "Hello Jon\n"
     ]
    }
   ],
   "source": [
    "def hello(name, loud=False):\n",
    "    if loud:\n",
    "        print('HELLO', name.upper())\n",
    "    else:\n",
    "        print('Hello', name)\n",
    "\n",
    "hello('Bob')\n",
    "hello('Fred', loud=True)\n",
    "hello('Jon', loud=False)"
   ]
  },
  {
   "cell_type": "markdown",
   "metadata": {
    "id": "G1mWi27BPnC-"
   },
   "source": [
    "# Numpy"
   ]
  },
  {
   "cell_type": "markdown",
   "metadata": {
    "id": "mldYyspzUNLT"
   },
   "source": [
    "**Numpy**: Numpy is a Linear Algebra Library for Python which provides provides a high-performance multidimensional array object and tools for working with these arrays."
   ]
  },
  {
   "cell_type": "code",
   "execution_count": null,
   "metadata": {
    "id": "rqgYL9izPoah"
   },
   "outputs": [],
   "source": [
    "#Import numpy\n",
    "import numpy as np"
   ]
  },
  {
   "cell_type": "markdown",
   "metadata": {
    "id": "vU3-yOMOUIK8"
   },
   "source": [
    "NumPy's main object is a multidimensional array called np.array. Unlike traditional Python lists, which can intermix multiple types, all types in a NumPy array must be the same.\n",
    "We can initialize numpy arrays from nested Python lists, and access elements using square brackets:"
   ]
  },
  {
   "cell_type": "code",
   "execution_count": null,
   "metadata": {
    "colab": {
     "base_uri": "https://localhost:8080/"
    },
    "id": "IJ66nkZ3Tarw",
    "outputId": "53c793e9-97f7-4dec-daaa-3fbdff26615b"
   },
   "outputs": [
    {
     "name": "stdout",
     "output_type": "stream",
     "text": [
      "<class 'numpy.ndarray'> (3,) 1 2 3\n",
      "[1 2 3]\n",
      "[5 2 3]\n"
     ]
    }
   ],
   "source": [
    "a = np.array([1, 2, 3])  # Create a rank 1 array\n",
    "print(type(a), a.shape, a[0], a[1], a[2])\n",
    "print(a)\n",
    "a[0] = 5                 # Change an element of the array\n",
    "print(a)"
   ]
  },
  {
   "cell_type": "code",
   "execution_count": null,
   "metadata": {
    "colab": {
     "base_uri": "https://localhost:8080/"
    },
    "id": "_edtzTr6Uatt",
    "outputId": "eb5918d1-fad5-44b2-ca2c-ce0f973419b5"
   },
   "outputs": [
    {
     "name": "stdout",
     "output_type": "stream",
     "text": [
      "[[1 2 3]\n",
      " [4 5 6]]\n"
     ]
    }
   ],
   "source": [
    "b = np.array([[1,2,3],[4,5,6]])   # Create a rank 2 array\n",
    "print(b)"
   ]
  },
  {
   "cell_type": "code",
   "execution_count": null,
   "metadata": {
    "colab": {
     "base_uri": "https://localhost:8080/"
    },
    "id": "KTPYcqg0Ucc-",
    "outputId": "4796a76e-5b63-4882-ee93-2b743b4214e6"
   },
   "outputs": [
    {
     "name": "stdout",
     "output_type": "stream",
     "text": [
      "(2, 3)\n",
      "[[1 2 3]\n",
      " [4 5 6]]\n",
      "\n",
      "Row: 0 Col: 0 Val: 1\n",
      "Row: 1 Col: 2 Val: 6\n"
     ]
    }
   ],
   "source": [
    "print(b.shape)\n",
    "print(b)\n",
    "\n",
    "row = 0\n",
    "col = 0\n",
    "print()\n",
    "print(\"Row: {} Col: {} Val: {}\".format(row, col, b[row, col])) # access elements by row, column\n",
    "\n",
    "row = 1\n",
    "col = 2\n",
    "print(\"Row: {} Col: {} Val: {}\".format(row, col, b[row, col])) # access elements by row, column"
   ]
  },
  {
   "cell_type": "markdown",
   "metadata": {
    "id": "AhsfTNfmU1m6"
   },
   "source": [
    "Lists versus Numpy arrays"
   ]
  },
  {
   "cell_type": "code",
   "execution_count": null,
   "metadata": {
    "colab": {
     "base_uri": "https://localhost:8080/"
    },
    "id": "HdcAOf2MUgWJ",
    "outputId": "e7e607d0-ba44-4ff3-d25c-01e191d01366"
   },
   "outputs": [
    {
     "name": "stdout",
     "output_type": "stream",
     "text": [
      "[1, 2, 3, 4, 1, 2, 3, 4]\n",
      "[2 4 6 8]\n"
     ]
    }
   ],
   "source": [
    "normal_list = [1, 2, 3, 4]\n",
    "new_list = normal_list * 2 # will make another copy of the list and append\n",
    "print(new_list)\n",
    "\n",
    "np_array = np.array([1, 2, 3, 4])\n",
    "new_array = np_array * 2 # will perform a computation on the list (multiply each element by 2)\n",
    "print(new_array)"
   ]
  },
  {
   "cell_type": "markdown",
   "metadata": {
    "id": "uGixcv65U7S8"
   },
   "source": [
    "**Multidimensionality**\n",
    "In NumPy dimensions are called axes. The number of axes is rank.\n",
    "For example, the coordinates of a point in 3D space [1, 2, 1] is an array of rank 1, because it has one axis (and that axis has a length of 3).\n",
    "\n"
   ]
  },
  {
   "cell_type": "code",
   "execution_count": null,
   "metadata": {
    "colab": {
     "base_uri": "https://localhost:8080/"
    },
    "id": "Ms6ZYoC0U48R",
    "outputId": "f5083049-b55c-46f0-f7f7-313886d8424c"
   },
   "outputs": [
    {
     "name": "stdout",
     "output_type": "stream",
     "text": [
      "[1 2 1]\n",
      "Rank:  1\n",
      "Shape:  (3,)\n"
     ]
    }
   ],
   "source": [
    "a = np.array([1,2,1])\n",
    "print(a)\n",
    "print(\"Rank: \", np.ndim(a))\n",
    "print(\"Shape: \", np.shape(a))"
   ]
  },
  {
   "cell_type": "code",
   "execution_count": null,
   "metadata": {
    "colab": {
     "base_uri": "https://localhost:8080/"
    },
    "id": "tjGlPkDWVI3o",
    "outputId": "2235067c-cf2a-47f8-bf9a-8880f7873655"
   },
   "outputs": [
    {
     "name": "stdout",
     "output_type": "stream",
     "text": [
      "[[1. 0. 0.]\n",
      " [0. 1. 2.]]\n",
      "Rank:  2\n",
      "Shape:  (2, 3)\n"
     ]
    }
   ],
   "source": [
    "a = np.array([[ 1., 0., 0.],[ 0., 1., 2.]])\n",
    "print(a)\n",
    "print(\"Rank: \", np.ndim(a))\n",
    "print(\"Shape: \", np.shape(a))\n"
   ]
  },
  {
   "cell_type": "markdown",
   "metadata": {
    "id": "G3_yxUo5VOLu"
   },
   "source": [
    "**Data types**\n",
    "\n",
    "Every numpy array is a grid of elements of the same type. Numpy provides a large set of numeric datatypes that you can use to construct arrays. Numpy tries to infer a datatype when you create an array, but functions that construct arrays usually also include an optional argument to explicitly specify the datatype. Here is an example:"
   ]
  },
  {
   "cell_type": "code",
   "execution_count": null,
   "metadata": {
    "colab": {
     "base_uri": "https://localhost:8080/"
    },
    "id": "AoWUbInhVUBx",
    "outputId": "20e31713-9618-4d3b-b568-a263f82f721a"
   },
   "outputs": [
    {
     "name": "stdout",
     "output_type": "stream",
     "text": [
      "int64 float64 int64\n"
     ]
    }
   ],
   "source": [
    "x = np.array([1, 2])                  # Let numpy choose the datatype\n",
    "y = np.array([1.0, 2.0])              # Let numpy choose the datatype\n",
    "z = np.array([1, 2], dtype=np.int64)  # Force a particular datatype\n",
    "\n",
    "print(x.dtype, y.dtype, z.dtype)"
   ]
  },
  {
   "cell_type": "markdown",
   "metadata": {
    "id": "oipjIPW-X9GI"
   },
   "source": [
    "When operating with arrays of different types, the type of the resulting array corresponds to the more general or precise one (a behavior known as upcasting)."
   ]
  },
  {
   "cell_type": "code",
   "execution_count": null,
   "metadata": {
    "colab": {
     "base_uri": "https://localhost:8080/"
    },
    "id": "9J7242llYA55",
    "outputId": "d218a3b6-db62-4321-8499-4224a665c150"
   },
   "outputs": [
    {
     "name": "stdout",
     "output_type": "stream",
     "text": [
      "int32 [1 1 1]\n",
      "float64 [0.         1.57079633 3.14159265]\n",
      "float64 [1.         2.57079633 4.14159265]\n"
     ]
    }
   ],
   "source": [
    "import math\n",
    "a = np.ones(3, dtype=np.int32)\n",
    "b = np.linspace(0,math.pi,3) # Return evenly spaced numbers over a specified interval.\n",
    "print(a.dtype, a)\n",
    "print(b.dtype, b)\n",
    "\n",
    "c = a + b\n",
    "print(c.dtype, c)"
   ]
  },
  {
   "cell_type": "markdown",
   "metadata": {
    "id": "ORK8Ro_1YDQb"
   },
   "source": [
    "**Creating NumPy arrays**\n",
    "Numpy also provides many functions to create arrays:"
   ]
  },
  {
   "cell_type": "code",
   "execution_count": null,
   "metadata": {
    "colab": {
     "base_uri": "https://localhost:8080/"
    },
    "id": "NBjZ-CL6YIwf",
    "outputId": "8017a23f-7300-40da-e598-bdb523558e73"
   },
   "outputs": [
    {
     "name": "stdout",
     "output_type": "stream",
     "text": [
      "[0 1 2 3 4 5]\n",
      "[[ 0  1  2]\n",
      " [ 3  4  5]\n",
      " [ 6  7  8]\n",
      " [ 9 10 11]]\n",
      "[[[ 0  1  2  3]\n",
      "  [ 4  5  6  7]\n",
      "  [ 8  9 10 11]]\n",
      "\n",
      " [[12 13 14 15]\n",
      "  [16 17 18 19]\n",
      "  [20 21 22 23]]]\n"
     ]
    }
   ],
   "source": [
    "# arange returns evenly spaced values within a given interval.\n",
    "# see: https://docs.scipy.org/doc/numpy/reference/generated/numpy.arange.html\n",
    "a = np.arange(6)                 # 1d array\n",
    "print(a)\n",
    "\n",
    "b = np.arange(12).reshape(4,3)   # 2d array\n",
    "print(b)\n",
    "\n",
    "c = np.arange(24).reshape(2,3,4) # 3d array\n",
    "print(c)"
   ]
  },
  {
   "cell_type": "code",
   "execution_count": null,
   "metadata": {
    "colab": {
     "base_uri": "https://localhost:8080/"
    },
    "id": "eAvwIfWDYQfC",
    "outputId": "7b0c3eb2-7d7a-4574-fac1-dbdac3ec5574"
   },
   "outputs": [
    {
     "name": "stdout",
     "output_type": "stream",
     "text": [
      "[1 2 3 4]\n",
      "[1.  1.5 2.  2.5 3.  3.5 4.  4.5]\n"
     ]
    }
   ],
   "source": [
    "# you can also give arange a step size, which defaults to 1\n",
    "print(np.arange(1,5))\n",
    "print(np.arange(1,5,0.5))"
   ]
  },
  {
   "cell_type": "code",
   "execution_count": null,
   "metadata": {
    "colab": {
     "base_uri": "https://localhost:8080/"
    },
    "id": "Bry58dsgYRbm",
    "outputId": "96208fb7-724e-4f4e-80ed-4383fc288b98"
   },
   "outputs": [
    {
     "name": "stdout",
     "output_type": "stream",
     "text": [
      "[[0. 0.]\n",
      " [0. 0.]]\n",
      "[[0. 0.]\n",
      " [0. 0.]\n",
      " [0. 0.]]\n",
      "[[0. 0. 0. 0.]\n",
      " [0. 0. 0. 0.]]\n"
     ]
    }
   ],
   "source": [
    "a = np.zeros((2,2))  # Create an array of 2x2 of all zeros\n",
    "print(a)\n",
    "\n",
    "print(np.zeros((3,2))) # a 3 rows x 2 columns array of zeros\n",
    "print(np.zeros((2,4))) # a 2 rows x 4 columns array of zeros"
   ]
  },
  {
   "cell_type": "code",
   "execution_count": null,
   "metadata": {
    "colab": {
     "base_uri": "https://localhost:8080/"
    },
    "id": "ddU-eRUhYVWf",
    "outputId": "7eacba92-e057-43c9-c539-05cbaccd6b0b"
   },
   "outputs": [
    {
     "name": "stdout",
     "output_type": "stream",
     "text": [
      "[[1. 1.]]\n",
      "[[1. 1.]\n",
      " [1. 1.]\n",
      " [1. 1.]]\n",
      "[[1. 1. 1. 1.]\n",
      " [1. 1. 1. 1.]]\n"
     ]
    }
   ],
   "source": [
    "b = np.ones((1,2))   # Create an array of all ones\n",
    "print(b)\n",
    "\n",
    "print(np.ones((3,2))) # a 3 rows x 2 columns array of ones\n",
    "print(np.ones((2,4))) # a 2 rows x 4 columns array of ones"
   ]
  },
  {
   "cell_type": "code",
   "execution_count": null,
   "metadata": {
    "colab": {
     "base_uri": "https://localhost:8080/"
    },
    "id": "euq5mykOYWJk",
    "outputId": "a9216cf0-d7a7-4ccf-ceee-ca3d3302c3c0"
   },
   "outputs": [
    {
     "name": "stdout",
     "output_type": "stream",
     "text": [
      "[[7 7]\n",
      " [7 7]]\n",
      "[[1 1]\n",
      " [1 1]]\n"
     ]
    }
   ],
   "source": [
    "c = np.full((2,2), 7) # Create a constant array\n",
    "print(c)\n",
    "\n",
    "c = np.full((2,2), 1) # Same as np.ones((2,2))\n",
    "print(c)"
   ]
  },
  {
   "cell_type": "code",
   "execution_count": null,
   "metadata": {
    "colab": {
     "base_uri": "https://localhost:8080/"
    },
    "id": "02X_fFPaYYTe",
    "outputId": "b2410791-83bb-4bd6-87cc-921f8eef38ea"
   },
   "outputs": [
    {
     "name": "stdout",
     "output_type": "stream",
     "text": [
      "[[1. 0.]\n",
      " [0. 1.]]\n",
      "[[1. 0. 0. 0.]\n",
      " [0. 1. 0. 0.]\n",
      " [0. 0. 1. 0.]\n",
      " [0. 0. 0. 1.]]\n"
     ]
    }
   ],
   "source": [
    "d = np.eye(2)        # Create a 2x2 identity matrix\n",
    "print(d)\n",
    "\n",
    "d = np.eye(4)        # create a 4x3 identity matrix\n",
    "print(d)"
   ]
  },
  {
   "cell_type": "code",
   "execution_count": null,
   "metadata": {
    "colab": {
     "base_uri": "https://localhost:8080/"
    },
    "id": "Z43ptWYLYa-O",
    "outputId": "400c89af-052b-4469-9e6c-9db1977ade00"
   },
   "outputs": [
    {
     "name": "stdout",
     "output_type": "stream",
     "text": [
      "[[0.71060217 0.19104796]\n",
      " [0.89051721 0.61984412]]\n",
      "[[0.68438872 0.93171736 0.712121   0.78009437 0.54185057 0.36934316]\n",
      " [0.83532526 0.57702718 0.38973264 0.15363043 0.19659037 0.90013082]\n",
      " [0.98374026 0.53582905 0.43936875 0.38409746 0.79826161 0.31970821]\n",
      " [0.55005118 0.3958988  0.0156801  0.41138356 0.74520776 0.68175049]]\n",
      "[[2.75891884e-01 1.06573584e-01 7.82311910e-05 7.69161545e-01\n",
      "  8.69148800e-01 1.36721125e-01 8.44985226e-01 2.92070183e-01\n",
      "  5.58580245e-02 3.03226696e-01 6.32978572e-02 8.32114097e-01\n",
      "  3.96088353e-01 6.30993758e-01 6.54466502e-02 2.01308157e-01\n",
      "  6.59775308e-01 1.51663943e-01 6.09074007e-01 1.63102402e-01]]\n"
     ]
    }
   ],
   "source": [
    "e = np.random.random((2,2)) # Create an array filled with random values\n",
    "print(e)\n",
    "\n",
    "e = np.random.random((4,6))\n",
    "print(e)\n",
    "\n",
    "e = np.random.random((1,20))\n",
    "print(e)"
   ]
  },
  {
   "cell_type": "markdown",
   "metadata": {
    "id": "QgNL8Bg7YNh1"
   },
   "source": [
    "**Array indexing**\n",
    "Numpy offers several ways to index into arrays"
   ]
  },
  {
   "cell_type": "markdown",
   "metadata": {
    "id": "FkRGYhLxYu5i"
   },
   "source": [
    "**1. Slicing**\n",
    "\n",
    "Similar to Python lists, numpy arrays can be sliced. Since arrays may be multidimensional, you must specify a slice for each dimension of the array:"
   ]
  },
  {
   "cell_type": "code",
   "execution_count": null,
   "metadata": {
    "colab": {
     "base_uri": "https://localhost:8080/"
    },
    "id": "FFKJH0PJY1kG",
    "outputId": "68c7303b-8767-4c88-ff2f-8c2e0aca48f6"
   },
   "outputs": [
    {
     "name": "stdout",
     "output_type": "stream",
     "text": [
      "[1 2 3 4]\n",
      "[1]\n",
      "[4]\n",
      "[2 3 4 5 1 2]\n"
     ]
    }
   ],
   "source": [
    "# Playing around with slicing (trimming) array\n",
    "a = np.array([1, 2, 3, 4, 5, 1, 2])\n",
    "print(a[:4])  # prints [1 2 3 4]\n",
    "print(a[:1])  # prints [1]\n",
    "print(a[3:4]) # prints [4]\n",
    "print(a[1:])  # prints [2 3 4 5 1 2]"
   ]
  },
  {
   "cell_type": "code",
   "execution_count": null,
   "metadata": {
    "colab": {
     "base_uri": "https://localhost:8080/"
    },
    "id": "1yXpIVzpY34b",
    "outputId": "5ee597fc-034a-459f-92e6-592f8658cfec"
   },
   "outputs": [
    {
     "name": "stdout",
     "output_type": "stream",
     "text": [
      "[[ 1  2  3  4]\n",
      " [ 5  6  7  8]\n",
      " [ 9 10 11 12]]\n",
      "[[2 3]\n",
      " [6 7]]\n"
     ]
    }
   ],
   "source": [
    "# Create the following rank 2 array with shape (3, 4)\n",
    "# [[ 1  2  3  4]\n",
    "#  [ 5  6  7  8]\n",
    "#  [ 9 10 11 12]]\n",
    "a = np.array([[1,2,3,4], [5,6,7,8], [9,10,11,12]])\n",
    "print(a)\n",
    "\n",
    "# Use slicing to pull out the subarray consisting of the first 2 rows\n",
    "# and columns 1 and 2; b is the following array of shape (2, 2):\n",
    "# [[2 3]\n",
    "#  [6 7]]\n",
    "b = a[:2, 1:3]\n",
    "print(b)"
   ]
  },
  {
   "cell_type": "code",
   "execution_count": null,
   "metadata": {
    "colab": {
     "base_uri": "https://localhost:8080/"
    },
    "id": "U2LdpdWQY6QP",
    "outputId": "e56fd7d0-c577-4619-cd68-449b413914e0"
   },
   "outputs": [
    {
     "name": "stdout",
     "output_type": "stream",
     "text": [
      "[[ 1  2  3  4]\n",
      " [ 5  6  7  8]\n",
      " [ 9 10 11 12]]\n",
      "[[2 3]\n",
      " [6 7]]\n",
      "2\n",
      "77\n"
     ]
    }
   ],
   "source": [
    "#Importantly, a slice of an array is a view into the same data, so modifying it will modify the original array.\n",
    "a[0, 1] = 2\n",
    "b = a[:2, 1:3]\n",
    "\n",
    "print(a)\n",
    "print(b)\n",
    "\n",
    "print(a[0, 1])\n",
    "b[0, 0] = 77    # b[0, 0] is the same piece of data as a[0, 1]\n",
    "print(a[0, 1])  # should print 77"
   ]
  },
  {
   "cell_type": "code",
   "execution_count": null,
   "metadata": {
    "colab": {
     "base_uri": "https://localhost:8080/"
    },
    "id": "6Nyji7UbZMch",
    "outputId": "d7f11e5c-70ab-40c7-e274-e56a78186585"
   },
   "outputs": [
    {
     "name": "stdout",
     "output_type": "stream",
     "text": [
      "[[1. 0.]\n",
      " [2. 0.]]\n",
      "[[1. 3.]\n",
      " [2. 4.]]\n",
      "[[1. 2.]\n",
      " [0. 0.]]\n",
      "[[1. 2.]\n",
      " [3. 4.]]\n"
     ]
    }
   ],
   "source": [
    "# To select a row in a 2D array in numpy, use P[i]. For example, P[0] will return the first row of P\n",
    "# To select a column in a 2D array in numpy, use P[:, i]. The : essentially means \"select all rows\".\n",
    "# For example, P[:, 1] will select all rows from the second column of P.\n",
    "\n",
    "# this sets columns\n",
    "a = np.zeros((2,2))\n",
    "a[:, 0] = [1, 2]   # set column 0 to [1, 2]\n",
    "print(a)\n",
    "a[:, 1] = [3, 4]   # set column 1 to [3, 4]\n",
    "print(a)\n",
    "\n",
    "# this sets rows\n",
    "b = np.zeros((2,2))\n",
    "b[0] = [1, 2]      # set row 0 to [1, 2]\n",
    "print(b)\n",
    "b[1] = [3, 4]      # set row 1 to [3, 4]\n",
    "print(b)"
   ]
  },
  {
   "cell_type": "markdown",
   "metadata": {
    "id": "yLNBSzfwZY5M"
   },
   "source": [
    "**2. Integer array indexing**\n",
    "When you index into numpy arrays using slicing, the resulting array view will always be a subarray of the original array. In contrast, integer array indexing allows you to construct arbitrary arrays using the data from another array. Here is an example:"
   ]
  },
  {
   "cell_type": "code",
   "execution_count": null,
   "metadata": {
    "colab": {
     "base_uri": "https://localhost:8080/"
    },
    "id": "KuCWJKYcZmPJ",
    "outputId": "fc21bc46-a37e-4502-b971-92dbf983bf8d"
   },
   "outputs": [
    {
     "name": "stdout",
     "output_type": "stream",
     "text": [
      "[[1 2]\n",
      " [3 4]\n",
      " [5 6]]\n",
      "[1 4 5]\n",
      "[1 4 5]\n"
     ]
    }
   ],
   "source": [
    "a = np.array([[1,2], [3, 4], [5, 6]])\n",
    "print(a)\n",
    "\n",
    "# An example of integer array indexing.\n",
    "# The returned array will have shape (3,) and\n",
    "print(a[[0, 1, 2], [0, 1, 0]])\n",
    "\n",
    "# The above example of integer array indexing is equivalent to this:\n",
    "print(np.array([a[0, 0], a[1, 1], a[2, 0]]))"
   ]
  },
  {
   "cell_type": "markdown",
   "metadata": {
    "id": "b37hSJG8ZoVg"
   },
   "source": [
    "**3. Boolean array indexing**\n",
    "Boolean array indexing lets you pick out arbitrary elements of an array. Frequently this type of indexing is used to select the elements of an array that satisfy some condition. Here is an example:"
   ]
  },
  {
   "cell_type": "code",
   "execution_count": null,
   "metadata": {
    "colab": {
     "base_uri": "https://localhost:8080/"
    },
    "id": "4_04xPknZuAw",
    "outputId": "98ffd282-45f9-46d7-c202-d246a6d281a7"
   },
   "outputs": [
    {
     "name": "stdout",
     "output_type": "stream",
     "text": [
      "[[False False]\n",
      " [ True  True]\n",
      " [ True  True]]\n"
     ]
    }
   ],
   "source": [
    "import numpy as np\n",
    "\n",
    "a = np.array([[1,2], [3, 4], [5, 6]])\n",
    "\n",
    "bool_idx = (a > 2)  # Find the elements of a that are bigger than 2;\n",
    "                    # this returns a numpy array of Booleans of the same\n",
    "                    # shape as a, where each slot of bool_idx tells\n",
    "                    # whether that element of a is > 2.\n",
    "\n",
    "print(bool_idx)"
   ]
  },
  {
   "cell_type": "code",
   "execution_count": null,
   "metadata": {
    "colab": {
     "base_uri": "https://localhost:8080/"
    },
    "id": "tXUoa71wZx33",
    "outputId": "02a67a95-23ae-4d97-bd53-da2971db73fb"
   },
   "outputs": [
    {
     "name": "stdout",
     "output_type": "stream",
     "text": [
      "[3 4 5 6]\n",
      "[3 4 5 6]\n"
     ]
    }
   ],
   "source": [
    "# We use boolean array indexing to construct a rank 1 array\n",
    "# consisting of the elements of a corresponding to the True values\n",
    "# of bool_idx\n",
    "print(a[bool_idx])\n",
    "\n",
    "# We can do all of the above in a single concise statement:\n",
    "print(a[a > 2])"
   ]
  },
  {
   "cell_type": "code",
   "execution_count": null,
   "metadata": {
    "colab": {
     "base_uri": "https://localhost:8080/"
    },
    "id": "jUtUsvo7Z0-b",
    "outputId": "524b21fc-0ac5-4166-935e-0801b6db92eb"
   },
   "outputs": [
    {
     "name": "stdout",
     "output_type": "stream",
     "text": [
      "[1 2 0 0 0 1 2]\n"
     ]
    }
   ],
   "source": [
    "# We can also use boolean array indexing to replace values\n",
    "a = np.array([1, 2, 3, 4, 5, 1, 2])\n",
    "a[a > 2] = 0\n",
    "print(a)"
   ]
  },
  {
   "cell_type": "markdown",
   "metadata": {
    "id": "vtjzg-1zZs-a"
   },
   "source": [
    "**4. Querying arrays**\n",
    "You can also run queries on the arrays themselves."
   ]
  },
  {
   "cell_type": "code",
   "execution_count": null,
   "metadata": {
    "colab": {
     "base_uri": "https://localhost:8080/"
    },
    "id": "cmt9KDOPaMnZ",
    "outputId": "22c201eb-d6e7-412b-9b88-fd6c2bbcfb68"
   },
   "outputs": [
    {
     "name": "stdout",
     "output_type": "stream",
     "text": [
      "['apple' 'orange' 'apple' 'banana']\n",
      "(array([0, 2]),)\n",
      "['apple' 'apple']\n"
     ]
    }
   ],
   "source": [
    "# In this example, we show how the numpy 'where' method supports string matching\n",
    "a = np.array(['apple', 'orange', 'apple', 'banana'])\n",
    "\n",
    "arr_index = np.where(a == 'apple')\n",
    "print(a)\n",
    "print (arr_index)    # prints (array([0, 2]),)\n",
    "print (a[arr_index]) # prints ['apple' 'apple']"
   ]
  },
  {
   "cell_type": "code",
   "execution_count": null,
   "metadata": {
    "colab": {
     "base_uri": "https://localhost:8080/"
    },
    "id": "T48XxItNaOiN",
    "outputId": "2d7e48be-2e8c-47b4-ea7b-aed1a70cdc31"
   },
   "outputs": [
    {
     "name": "stdout",
     "output_type": "stream",
     "text": [
      "[['apple' 'orange' 'apple' 'banana']\n",
      " ['apple' 'apple' 'apple' 'banana']]\n",
      "(array([0, 0, 1, 1, 1]), array([0, 2, 0, 1, 2]))\n",
      "['apple' 'apple' 'apple' 'apple' 'apple']\n"
     ]
    }
   ],
   "source": [
    "# This also works in multiple dimensions\n",
    "a = np.array([['apple', 'orange', 'apple', 'banana'],['apple', 'apple', 'apple', 'banana']])\n",
    "arr_index = np.where(a == 'apple')\n",
    "print(a)\n",
    "print (arr_index)\n",
    "print (a[arr_index])"
   ]
  },
  {
   "cell_type": "markdown",
   "metadata": {
    "id": "Fe-hLfHZZlSt"
   },
   "source": [
    "\n",
    "**Array sorting** - The NumPy sort method sorts the array in place:"
   ]
  },
  {
   "cell_type": "code",
   "execution_count": null,
   "metadata": {
    "colab": {
     "base_uri": "https://localhost:8080/"
    },
    "id": "KXod8VYXaMKt",
    "outputId": "e5536111-4b3e-4cfa-9f61-c944d817f945"
   },
   "outputs": [
    {
     "name": "stdout",
     "output_type": "stream",
     "text": [
      "[5 2 0 4 3 1]\n",
      "[0 1 2 3 4 5]\n"
     ]
    }
   ],
   "source": [
    "x = np.array([5, 2, 0, 4, 3, 1])\n",
    "print(x)\n",
    "x.sort()\n",
    "print(x)"
   ]
  },
  {
   "cell_type": "code",
   "execution_count": null,
   "metadata": {
    "colab": {
     "base_uri": "https://localhost:8080/"
    },
    "id": "FL_72LXXaeaw",
    "outputId": "416265a0-219d-4728-f33a-901631f4bc1f"
   },
   "outputs": [
    {
     "name": "stdout",
     "output_type": "stream",
     "text": [
      "[1 3 2 0]\n",
      "1: 6\n",
      "3: 7\n",
      "2: 8\n",
      "0: 9\n"
     ]
    }
   ],
   "source": [
    "\n",
    "#We can also use argsort to calculate the indices to sort the array:\n",
    "x = np.array([9, 6, 8, 7])\n",
    "sorted_indices = np.argsort(x)\n",
    "print(sorted_indices)\n",
    "\n",
    "for sorted_idx in sorted_indices:\n",
    "    print(\"{}: {}\".format(sorted_idx, x[sorted_idx]))\n"
   ]
  },
  {
   "cell_type": "markdown",
   "metadata": {
    "id": "LEp19xw6alsx"
   },
   "source": [
    "**Array math**\n",
    "\n",
    "**1. Element-wise operations**\n",
    "Basic mathematical functions operate elementwise on arrays, and are available both as operator overloads and as functions in the numpy module (see link):"
   ]
  },
  {
   "cell_type": "code",
   "execution_count": null,
   "metadata": {
    "colab": {
     "base_uri": "https://localhost:8080/"
    },
    "id": "g2lbsW81ajWT",
    "outputId": "0af0c582-767e-4f73-9ed1-2cebf0abb1b6"
   },
   "outputs": [
    {
     "name": "stdout",
     "output_type": "stream",
     "text": [
      "[[ 6.  8.]\n",
      " [10. 12.]]\n",
      "[[ 6.  8.]\n",
      " [10. 12.]]\n"
     ]
    }
   ],
   "source": [
    "x = np.array([[1,2],[3,4]], dtype=np.float64)\n",
    "y = np.array([[5,6],[7,8]], dtype=np.float64)\n",
    "\n",
    "# Elementwise sum; both produce the same array\n",
    "print(x + y)\n",
    "print(np.add(x, y))"
   ]
  },
  {
   "cell_type": "code",
   "execution_count": null,
   "metadata": {
    "colab": {
     "base_uri": "https://localhost:8080/"
    },
    "id": "Npdz11dqbAUe",
    "outputId": "2cf86dcb-d06a-48a9-ddf3-6a35854707bb"
   },
   "outputs": [
    {
     "name": "stdout",
     "output_type": "stream",
     "text": [
      "[[-4. -4.]\n",
      " [-4. -4.]]\n",
      "[[-4. -4.]\n",
      " [-4. -4.]]\n"
     ]
    }
   ],
   "source": [
    "# Elementwise difference; both produce the same array\n",
    "print(x - y)\n",
    "print(np.subtract(x, y))"
   ]
  },
  {
   "cell_type": "code",
   "execution_count": null,
   "metadata": {
    "colab": {
     "base_uri": "https://localhost:8080/"
    },
    "id": "QptL12jvbCQZ",
    "outputId": "f7079773-c40a-40a3-b9d9-fa6b1b704360"
   },
   "outputs": [
    {
     "name": "stdout",
     "output_type": "stream",
     "text": [
      "[[ 5. 12.]\n",
      " [21. 32.]]\n",
      "[[ 5. 12.]\n",
      " [21. 32.]]\n"
     ]
    }
   ],
   "source": [
    "# Elementwise product; both produce the same array\n",
    "print(x * y)\n",
    "print(np.multiply(x, y))"
   ]
  },
  {
   "cell_type": "code",
   "execution_count": null,
   "metadata": {
    "colab": {
     "base_uri": "https://localhost:8080/"
    },
    "id": "L8ytfWhkbE2b",
    "outputId": "ab80b4c6-6da6-4b97-d657-9477a9651582"
   },
   "outputs": [
    {
     "name": "stdout",
     "output_type": "stream",
     "text": [
      "[[0.2        0.33333333]\n",
      " [0.42857143 0.5       ]]\n",
      "[[0.2        0.33333333]\n",
      " [0.42857143 0.5       ]]\n"
     ]
    }
   ],
   "source": [
    "# Elementwise division; both produce the same array\n",
    "# [[ 0.2         0.33333333]\n",
    "#  [ 0.42857143  0.5       ]]\n",
    "print(x / y)\n",
    "print(np.divide(x, y))"
   ]
  },
  {
   "cell_type": "code",
   "execution_count": null,
   "metadata": {
    "colab": {
     "base_uri": "https://localhost:8080/"
    },
    "id": "ShJer-lKbHSC",
    "outputId": "59d9f613-e88b-45e9-b57b-f1887a2d1c80"
   },
   "outputs": [
    {
     "name": "stdout",
     "output_type": "stream",
     "text": [
      "[0.5 1.  1.5 2.  2.5]\n"
     ]
    }
   ],
   "source": [
    "# Elementwise division\n",
    "a = np.array([1, 2, 3, 4, 5])\n",
    "half_a = a / 2\n",
    "print(half_a)"
   ]
  },
  {
   "cell_type": "code",
   "execution_count": null,
   "metadata": {
    "colab": {
     "base_uri": "https://localhost:8080/"
    },
    "id": "i6CtewczbI_3",
    "outputId": "9185c42e-edc1-4555-ed7b-d87fd3727cd3"
   },
   "outputs": [
    {
     "name": "stdout",
     "output_type": "stream",
     "text": [
      "[[1.         1.41421356]\n",
      " [1.73205081 2.        ]]\n"
     ]
    }
   ],
   "source": [
    "# Elementwise square root; produces the array\n",
    "# [[ 1.          1.41421356]\n",
    "#  [ 1.73205081  2.        ]]\n",
    "print(np.sqrt(x))"
   ]
  },
  {
   "cell_type": "code",
   "execution_count": null,
   "metadata": {
    "colab": {
     "base_uri": "https://localhost:8080/"
    },
    "id": "ZrK-dvUVbW6I",
    "outputId": "2d27cfa4-5ecd-47e4-9d0b-675452855275"
   },
   "outputs": [
    {
     "name": "stdout",
     "output_type": "stream",
     "text": [
      "[ 0  0 -1 -3  0]\n"
     ]
    }
   ],
   "source": [
    "#Arrays must be same shape\n",
    "x = np.array([1, 2, 3, 4, 5])\n",
    "y = np.array([1, 2, 4, 7, 5])\n",
    "diff = x - y\n",
    "print(diff)  # prints [0 0 1 3 0]"
   ]
  },
  {
   "cell_type": "markdown",
   "metadata": {
    "id": "Z1vfecCAbniF"
   },
   "source": [
    "**2. Computation on arrays**\n",
    "Numpy provides many useful functions for performing computations on arrays; one of the most useful is sum:"
   ]
  },
  {
   "cell_type": "code",
   "execution_count": null,
   "metadata": {
    "colab": {
     "base_uri": "https://localhost:8080/"
    },
    "id": "2W_sS-DYb3Hq",
    "outputId": "34a805eb-cf58-4d02-bcef-3be90d322498"
   },
   "outputs": [
    {
     "name": "stdout",
     "output_type": "stream",
     "text": [
      "[[1 2]\n",
      " [3 4]]\n",
      "10\n",
      "[4 6]\n",
      "[3 7]\n"
     ]
    }
   ],
   "source": [
    "x = np.array([[1,2],[3,4]])\n",
    "\n",
    "print(x)\n",
    "print(np.sum(x))          # Compute sum of all elements; prints \"10\"\n",
    "print(np.sum(x, axis=0))  # Compute sum of each column; prints \"[4 6]\"\n",
    "print(np.sum(x, axis=1))  # Compute sum of each row; prints \"[3 7]\""
   ]
  },
  {
   "cell_type": "markdown",
   "metadata": {
    "id": "frwZK8Iyb2dn"
   },
   "source": [
    "**3. Scalar math**\n",
    "You can also perform scalar operations on NumPy arrays."
   ]
  },
  {
   "cell_type": "code",
   "execution_count": null,
   "metadata": {
    "colab": {
     "base_uri": "https://localhost:8080/"
    },
    "id": "dSizyJE8b5IK",
    "outputId": "3fe4b95f-1eaf-4a4b-8eca-ef340d239e3f"
   },
   "outputs": [
    {
     "name": "stdout",
     "output_type": "stream",
     "text": [
      "[2 4 6 8]\n"
     ]
    }
   ],
   "source": [
    "x = np.array([1, 2, 3, 4])\n",
    "x *= 2\n",
    "print(x)"
   ]
  },
  {
   "cell_type": "code",
   "execution_count": null,
   "metadata": {
    "colab": {
     "base_uri": "https://localhost:8080/"
    },
    "id": "RfdxBQEKcEWe",
    "outputId": "f2949a98-bef3-4a92-c4ec-3de3d6c5bc87"
   },
   "outputs": [
    {
     "name": "stdout",
     "output_type": "stream",
     "text": [
      "[1 2 3 4]\n",
      "[11 12 13 14]\n"
     ]
    }
   ],
   "source": [
    "x = np.array([1, 2, 3, 4])\n",
    "y = x + 10\n",
    "print(x)\n",
    "print(y)"
   ]
  },
  {
   "cell_type": "markdown",
   "metadata": {
    "id": "7DNxINWab2iE"
   },
   "source": [
    "\n",
    "\n",
    "**Reshaping Arrays**\n",
    "\n",
    "You can resize an array using padding"
   ]
  },
  {
   "cell_type": "code",
   "execution_count": null,
   "metadata": {
    "colab": {
     "base_uri": "https://localhost:8080/"
    },
    "id": "w5KQowKDb2tX",
    "outputId": "26bd3ddf-176b-46ac-e55c-e71ab3dd7e2e"
   },
   "outputs": [
    {
     "name": "stdout",
     "output_type": "stream",
     "text": [
      "[ 0  0  0 -4 -5]\n"
     ]
    }
   ],
   "source": [
    "np1 = np.array([1, 2, 3, 4, 5])\n",
    "np2 = np.array([1, 2, 3])\n",
    "\n",
    "# Resize the array by padding. In this case, with zeros\n",
    "# See: https://docs.scipy.org/doc/numpy/reference/generated/numpy.pad.html\n",
    "np2_resized = np.pad(np2, (0, 2), 'constant', constant_values=0)\n",
    "np_diff = np2_resized - np1\n",
    "print(np_diff)"
   ]
  },
  {
   "cell_type": "code",
   "execution_count": null,
   "metadata": {
    "colab": {
     "base_uri": "https://localhost:8080/"
    },
    "id": "QVDOTTc7cRKG",
    "outputId": "a6a6b242-ae78-44e1-f858-b83dc524ce3a"
   },
   "outputs": [
    {
     "name": "stdout",
     "output_type": "stream",
     "text": [
      "[[1 2]\n",
      " [3 4]]\n",
      "[[1 3]\n",
      " [2 4]]\n"
     ]
    }
   ],
   "source": [
    "#To transpose a matrix, simply use the T attribute of an array object:\n",
    "x = np.array([[1,2],[3,4]])\n",
    "print(x)\n",
    "print(x.T)"
   ]
  },
  {
   "cell_type": "markdown",
   "metadata": {
    "id": "v0ylE80ZPo-7"
   },
   "source": [
    "# Matplotlib"
   ]
  },
  {
   "cell_type": "markdown",
   "metadata": {
    "id": "WbzdJ5mIe73i"
   },
   "source": [
    "**Matplotlib**: Matplotlib is a plotting library in Python used for generating plots and for customizing the format and layouts of them.\n",
    "\n",
    "The main module for creating plots within Matplotlib is called **pyplot**."
   ]
  },
  {
   "cell_type": "code",
   "execution_count": null,
   "metadata": {
    "id": "VMXirD8Je9xk"
   },
   "outputs": [],
   "source": [
    "# Import Statement\n",
    "\n",
    "import matplotlib.pyplot as plt"
   ]
  },
  {
   "cell_type": "markdown",
   "metadata": {
    "id": "urEq04OKgxzh"
   },
   "source": [
    "Array(s) are to be used as input in order to plot the points."
   ]
  },
  {
   "cell_type": "markdown",
   "metadata": {
    "id": "dI0vdzVhf7Fv"
   },
   "source": [
    "**Plot Example**:"
   ]
  },
  {
   "cell_type": "code",
   "execution_count": null,
   "metadata": {
    "colab": {
     "base_uri": "https://localhost:8080/",
     "height": 265
    },
    "id": "ee4CULNabEDS",
    "outputId": "579a1f89-cfd3-4191-876d-8d75c87bb487"
   },
   "outputs": [
    {
     "data": {
      "image/png": "[encoded data removed]",
      "text/plain": [
       "<Figure size 432x288 with 1 Axes>"
      ]
     },
     "metadata": {
      "needs_background": "light"
     },
     "output_type": "display_data"
    }
   ],
   "source": [
    "# Plots a line with 1 to 3 being the y-axis values\n",
    "\n",
    "plt.plot([1, 2, 3])\n",
    "plt.show()"
   ]
  },
  {
   "cell_type": "markdown",
   "metadata": {
    "id": "wNXrb-bbhYxP"
   },
   "source": [
    "The above example shows that if only one array is provided as input, the y-axis values of those points will be plotted."
   ]
  },
  {
   "cell_type": "markdown",
   "metadata": {
    "id": "_Q_e5RfUhoaG"
   },
   "source": [
    "**Enhanced Plot Example**:"
   ]
  },
  {
   "cell_type": "code",
   "execution_count": null,
   "metadata": {
    "colab": {
     "base_uri": "https://localhost:8080/",
     "height": 265
    },
    "id": "sd3eE9hSUfyh",
    "outputId": "b4ee36e3-10f6-4da0-bd91-5bcfbeef287d"
   },
   "outputs": [
    {
     "data": {
      "image/png": "[encoded data removed]",
      "text/plain": [
       "<Figure size 432x288 with 1 Axes>"
      ]
     },
     "metadata": {
      "needs_background": "light"
     },
     "output_type": "display_data"
    }
   ],
   "source": [
    "# Plots a line in the format of [[x-axis values], [y-axis values]]\n",
    "\n",
    "plt.plot([2, 4, 6], [1, 2, 3])\n",
    "plt.show()"
   ]
  },
  {
   "cell_type": "markdown",
   "metadata": {
    "id": "ZRaWqrMqhlNv"
   },
   "source": [
    "We can also use arrays within NumPy for plotting."
   ]
  },
  {
   "cell_type": "markdown",
   "metadata": {
    "id": "kyWnj4Ck3AEN"
   },
   "source": [
    "**Use With NumPy Arrays Example**:"
   ]
  },
  {
   "cell_type": "code",
   "execution_count": null,
   "metadata": {
    "colab": {
     "base_uri": "https://localhost:8080/",
     "height": 265
    },
    "id": "8vdBrl5_Pqkd",
    "outputId": "e40e5e11-ac75-46f3-b2d0-1c529e44d1d0"
   },
   "outputs": [
    {
     "data": {
      "image/png": "[encoded data removed]",
      "text/plain": [
       "<Figure size 432x288 with 1 Axes>"
      ]
     },
     "metadata": {
      "needs_background": "light"
     },
     "output_type": "display_data"
    }
   ],
   "source": [
    "# Plots an array with the x-axis values being from 1 to 5 and the y-axis values being the product of each of the x-axis values\n",
    "\n",
    "x = np.array(np.arange(1, 6))\n",
    "y = np.array(np.multiply(x, x))\n",
    "\n",
    "plt.plot(x, y)\n",
    "plt.show()"
   ]
  },
  {
   "cell_type": "markdown",
   "metadata": {
    "id": "7WeUXStnh5lA"
   },
   "source": [
    "Plots can be formatted so that more information about the plots are shown and also so that they are easier to view."
   ]
  },
  {
   "cell_type": "markdown",
   "metadata": {
    "id": "J8b209yD7467"
   },
   "source": [
    "**Plot Formatting Enhancement Examples**:"
   ]
  },
  {
   "cell_type": "code",
   "execution_count": null,
   "metadata": {
    "colab": {
     "base_uri": "https://localhost:8080/",
     "height": 295
    },
    "id": "KT5zNFQv8TUT",
    "outputId": "9ff89f77-dfc1-43d6-9b7b-d21d8e2ed2bd"
   },
   "outputs": [
    {
     "data": {
      "image/png": "[encoded data removed]",
      "text/plain": [
       "<Figure size 432x288 with 1 Axes>"
      ]
     },
     "metadata": {
      "needs_background": "light"
     },
     "output_type": "display_data"
    }
   ],
   "source": [
    "# Plots the array from the cell above and plots a red \"X\" at each of the five points instead of a line\n",
    "# Also, labels for the x and y-axis are added as well as a title\n",
    "\n",
    "x = np.array(np.arange(1, 6))\n",
    "y = np.array(np.multiply(x, x))\n",
    "\n",
    "plt.plot(x, y)\n",
    "plt.plot(x, y, 'rx')\n",
    "\n",
    "plt.xlabel(\"X-Axis\")\n",
    "plt.ylabel(\"Y-Axis\")\n",
    "plt.title(\"Plot Title\")\n",
    "plt.show()"
   ]
  },
  {
   "cell_type": "code",
   "execution_count": null,
   "metadata": {
    "colab": {
     "base_uri": "https://localhost:8080/",
     "height": 350
    },
    "id": "5Xos7Hvw_hQx",
    "outputId": "24a69483-54cf-45d2-81e2-bd59a77353db"
   },
   "outputs": [
    {
     "data": {
      "image/png": "[encoded data removed]",
      "text/plain": [
       "<Figure size 720x360 with 1 Axes>"
      ]
     },
     "metadata": {
      "needs_background": "light"
     },
     "output_type": "display_data"
    }
   ],
   "source": [
    "# Plots the array from the cell above and increases the dimensions of the plot to a width of 10 inches and a height of 5 inches\n",
    "# Also, increases the limits of the x and y-axis from 0 to 6 and 0 to 30 respectively\n",
    "\n",
    "x = np.array(np.arange(1, 6))\n",
    "y = np.array(np.multiply(x, x))\n",
    "\n",
    "plt.figure(figsize = (10, 5))\n",
    "plt.plot(x, y)\n",
    "plt.plot(x, y, 'rx')\n",
    "plt.xlim([0, 6])\n",
    "plt.ylim([0, 30])\n",
    "\n",
    "plt.xlabel(\"X-Axis\")\n",
    "plt.ylabel(\"Y-Axis\")\n",
    "plt.title(\"Plot Title\")\n",
    "plt.show()"
   ]
  },
  {
   "cell_type": "code",
   "execution_count": null,
   "metadata": {
    "colab": {
     "base_uri": "https://localhost:8080/",
     "height": 350
    },
    "id": "0uJ1tEU1CtpR",
    "outputId": "0d911df2-3fb4-43e1-bc52-15f2a9be3f86"
   },
   "outputs": [
    {
     "data": {
      "image/png": "[encoded data removed]",
      "text/plain": [
       "<Figure size 720x360 with 1 Axes>"
      ]
     },
     "metadata": {
      "needs_background": "light"
     },
     "output_type": "display_data"
    }
   ],
   "source": [
    "# Plots the array from the cell above and adds the plot of another array that is green with blue dots as markers\n",
    "# Adds a legend for both of the labelled plots and places it on the lower right\n",
    "# Adds a grid to the layout of the plot\n",
    "\n",
    "x = np.array(np.arange(1, 6))\n",
    "y = np.array(np.multiply(x, x))\n",
    "\n",
    "y_add = np.add(y, 8)\n",
    "\n",
    "plt.figure(figsize = (10, 5))\n",
    "plt.plot(x, y, label = \"One\")\n",
    "plt.plot(x, y, 'rx')\n",
    "\n",
    "plt.plot(x, y_add, 'g', label = \"Two\")\n",
    "plt.plot(x, y_add, 'bo')\n",
    "plt.xlim([0.5, 5.5])\n",
    "plt.ylim([0, 35])\n",
    "\n",
    "plt.xlabel(\"X-Axis\")\n",
    "plt.ylabel(\"Y-Axis\")\n",
    "plt.legend(loc = \"lower right\")\n",
    "plt.title(\"Plot Title\")\n",
    "plt.grid()\n",
    "plt.show()"
   ]
  },
  {
   "cell_type": "markdown",
   "metadata": {
    "id": "k298Q9sfj8i5"
   },
   "source": [
    "We can also use different types of plots, such as bar and scatter plots."
   ]
  },
  {
   "cell_type": "markdown",
   "metadata": {
    "id": "jk1DQFO9kKV6"
   },
   "source": [
    "**Bar Plot Example**:"
   ]
  },
  {
   "cell_type": "code",
   "execution_count": null,
   "metadata": {
    "colab": {
     "base_uri": "https://localhost:8080/",
     "height": 350
    },
    "id": "GUrYyYFpkJuI",
    "outputId": "13ba4290-395e-4d1c-fb7b-386f0c59cbc6"
   },
   "outputs": [
    {
     "data": {
      "image/png": "[encoded data removed]",
      "text/plain": [
       "<Figure size 720x360 with 1 Axes>"
      ]
     },
     "metadata": {
      "needs_background": "light"
     },
     "output_type": "display_data"
    }
   ],
   "source": [
    "# Plots a bar plot with three bars of different colors\n",
    "\n",
    "x = np.array([\"A\", \"B\", \"C\"])\n",
    "y = np.array([100, 50, 200])\n",
    "colors = np.array([\"red\", \"blue\", \"green\"])\n",
    "\n",
    "plt.figure(figsize = (10, 5))\n",
    "plt.bar(x, y, color = colors)\n",
    "plt.xlabel(\"X-Axis\")\n",
    "plt.ylabel(\"Y-Axis\")\n",
    "plt.title(\"Plot Title\")\n",
    "plt.show()"
   ]
  },
  {
   "cell_type": "markdown",
   "metadata": {
    "id": "_Md8n_mMpGh6"
   },
   "source": [
    "**Scatter Plot Example**:"
   ]
  },
  {
   "cell_type": "code",
   "execution_count": null,
   "metadata": {
    "colab": {
     "base_uri": "https://localhost:8080/",
     "height": 350
    },
    "id": "NH4vlK0NpKZ4",
    "outputId": "0b93b92a-3425-4c12-ce3d-f0741035a858"
   },
   "outputs": [
    {
     "data": {
      "image/png": "[encoded data removed]",
      "text/plain": [
       "<Figure size 720x360 with 1 Axes>"
      ]
     },
     "metadata": {
      "needs_background": "light"
     },
     "output_type": "display_data"
    }
   ],
   "source": [
    "# Plots a scatter plot with three points of different colors\n",
    "\n",
    "x = np.array([\"A\", \"B\", \"C\"])\n",
    "y = np.array([100, 50, 200])\n",
    "colors = np.array([\"red\", \"blue\", \"green\"])\n",
    "\n",
    "plt.figure(figsize = (10, 5))\n",
    "plt.scatter(x, y, color = colors)\n",
    "plt.ylim(0, 250)\n",
    "plt.xlabel(\"X-Axis\")\n",
    "plt.ylabel(\"Y-Axis\")\n",
    "plt.title(\"Plot Title\")\n",
    "plt.show()"
   ]
  },
  {
   "cell_type": "markdown",
   "metadata": {
    "id": "RgQ8ZWUPq_yz"
   },
   "source": [
    "# Miscellanous"
   ]
  },
  {
   "cell_type": "markdown",
   "metadata": {
    "id": "Yj6av2IbUIWU"
   },
   "source": [
    "**Random**"
   ]
  },
  {
   "cell_type": "code",
   "execution_count": null,
   "metadata": {
    "colab": {
     "base_uri": "https://localhost:8080/"
    },
    "id": "ZUHzutXAUJWr",
    "outputId": "f4e3502d-12c2-44b4-b300-d3899918b516"
   },
   "outputs": [
    {
     "name": "stdout",
     "output_type": "stream",
     "text": [
      "[6, 10, 5, 7, 8, 1, 4, 1, 5]\n"
     ]
    }
   ],
   "source": [
    "import random\n",
    "\n",
    "x = [random.randint(1,10) for i in range(1,10)]\n",
    "print(x)"
   ]
  },
  {
   "cell_type": "code",
   "execution_count": null,
   "metadata": {
    "colab": {
     "base_uri": "https://localhost:8080/"
    },
    "id": "mzIdtL3zUMJk",
    "outputId": "47223ea2-7708-4dab-dcd0-28f858cb0969"
   },
   "outputs": [
    {
     "name": "stdout",
     "output_type": "stream",
     "text": [
      "[7, 5, 3, 4, 4, 6, 9, 2, 8]\n",
      "[1, 8, 10, 2, 10, 2, 6, 1, 2]\n",
      "[9, 7, 10, 5, 9, 8, 7, 9, 2]\n",
      "[7, 5, 3, 4, 4, 6, 9, 2, 8]\n"
     ]
    }
   ],
   "source": [
    "seed = \"myseed\" # can be a number or string. when used, random will generate same series of numbers\n",
    "random.seed(seed)\n",
    "n = 10\n",
    "x = [random.randint(1,n) for i in range(1,n)]\n",
    "print(x)\n",
    "\n",
    "random.seed() # clear the sead\n",
    "y = [random.randint(1,n) for i in range(1,n)]\n",
    "print(y)\n",
    "\n",
    "random.seed() # clear the seed again but should be new random seq\n",
    "y = [random.randint(1,n) for i in range(1,n)]\n",
    "print(y)\n",
    "\n",
    "random.seed(seed)\n",
    "z = [random.randint(1,n) for i in range(1,n)]\n",
    "print(z)"
   ]
  },
  {
   "cell_type": "code",
   "execution_count": null,
   "metadata": {
    "id": "GQ6K9wMcpqln"
   },
   "outputs": [],
   "source": []
  }
 ],
 "metadata": {
  "colab": {
   "provenance": []
  },
  "kernelspec": {
   "display_name": "Python 3 (ipykernel)",
   "language": "python",
   "name": "python3"
  },
  "language_info": {
   "codemirror_mode": {
    "name": "ipython",
    "version": 3
   },
   "file_extension": ".py",
   "mimetype": "text/x-python",
   "name": "python",
   "nbconvert_exporter": "python",
   "pygments_lexer": "ipython3",
   "version": "3.9.16"
  }
 },
 "nbformat": 4,
 "nbformat_minor": 4
}
