{
 "cells": [
  {
   "cell_type": "markdown",
   "metadata": {},
   "source": [
    "# Basic Intro to Python"
   ]
  },
  {
   "cell_type": "markdown",
   "metadata": {},
   "source": [
    "Python is an easy to learn, powerful programming language. It has efficient high-level data structures and a simple but effective approach to object-oriented programming. Python’s elegant syntax and dynamic typing, together with its interpreted nature, make it an ideal language for scripting and rapid application development in many areas on most platforms. \n",
    "\n",
    "Although very convenient, it is what is called \"very high level\" language meaning speed of execution will be slower(there are of course ways to make it faster like CPython) compared to low level languages like C/C++. "
   ]
  },
  {
   "cell_type": "markdown",
   "metadata": {},
   "source": [
    "## Hello World\n",
    "\n",
    "Traditional to learn a programming language with the familiar"
   ]
  },
  {
   "cell_type": "code",
   "execution_count": 26,
   "metadata": {},
   "outputs": [
    {
     "name": "stdout",
     "output_type": "stream",
     "text": [
      "Hello World\n"
     ]
    }
   ],
   "source": [
    "print(\"Hello World\")"
   ]
  },
  {
   "cell_type": "markdown",
   "metadata": {},
   "source": [
    "## Variables\n",
    "\n",
    "Variable is something that holds a value. Unlike C/C++ Python is dynamically typed meaning you dont have to specify the datatype of the variable beforehand. Python automatically does it for you. The name of the variable should obey traditional naming conventions\n",
    "- Variables can only contain letters, numbers, and underscores. Variable names can start with a letter or an underscore, but can not start with a number.\n",
    "- Spaces are not allowed in variable names, so we use underscores instead of spaces. For example, use student_name instead of \"student name\".\n",
    "- You cannot use Python keywords as variable names."
   ]
  },
  {
   "cell_type": "code",
   "execution_count": 27,
   "metadata": {},
   "outputs": [
    {
     "name": "stdout",
     "output_type": "stream",
     "text": [
      "Hello world!\n",
      "Value of var1(int):  120\n",
      "var1 is now a float:  3.2\n",
      "var1 is now a string:  hello\n"
     ]
    }
   ],
   "source": [
    "message = \"Hello world!\"\n",
    "print(message)\n",
    "\n",
    "var1 = 120\n",
    "print(\"Value of var1(int): \", var1)\n",
    "\n",
    "var1 = 3.2\n",
    "print(\"var1 is now a float: \", 3.2)\n",
    "\n",
    "var1 = \"hello\"\n",
    "print(\"var1 is now a string: \", var1)"
   ]
  },
  {
   "cell_type": "markdown",
   "metadata": {},
   "source": [
    "## Expressions\n",
    "\n",
    "An expression is a collection of variables and operators that produce some output. The operators available in python are \n",
    " \n",
    " Arithmetic\n",
    " \n",
    "- addition +\n",
    "- subtraction -\n",
    "- multiplication *\n",
    "- modulo - %\n",
    "- power - **\n",
    "\n",
    "Logical and Relational\n",
    "\n",
    "- equality(==)\n",
    "- non equal (!=)\n",
    "- greater than (>)\n",
    "- less than (<)\n",
    "- less than or equal (<=)\n",
    "- greater than or equal (>=)\n",
    "- membership (in)\n",
    "- and (and)\n",
    "- or (or)\n",
    "- not (not)"
   ]
  },
  {
   "cell_type": "code",
   "execution_count": 44,
   "metadata": {},
   "outputs": [
    {
     "name": "stdout",
     "output_type": "stream",
     "text": [
      "6\n",
      "8\n",
      "2.0\n",
      "0\n",
      "16\n",
      "False\n",
      "True\n",
      "True\n",
      "False\n"
     ]
    }
   ],
   "source": [
    "print(2+4)\n",
    "print(2*4)\n",
    "print(4/2)\n",
    "print(4%2)\n",
    "print(2**4)\n",
    "\n",
    "print(3>5)\n",
    "print(3<=5)\n",
    "print(3<5 or 2>4)\n",
    "print(3<5 and 2>4)"
   ]
  },
  {
   "cell_type": "markdown",
   "metadata": {},
   "source": [
    "## Lists\n",
    "\n",
    "A list is a collection of items, that is stored in a variable. The list items are usually related in some way, but there are no restrictions on what can be stored in a list."
   ]
  },
  {
   "cell_type": "code",
   "execution_count": 28,
   "metadata": {},
   "outputs": [
    {
     "name": "stdout",
     "output_type": "stream",
     "text": [
      "['bernice', 'aaron', 'cody']\n",
      "\n"
     ]
    }
   ],
   "source": [
    "students = ['bernice', 'aaron', 'cody']\n",
    "\n",
    "print(students)\n",
    "print(\"\")"
   ]
  },
  {
   "cell_type": "code",
   "execution_count": 33,
   "metadata": {},
   "outputs": [
    {
     "name": "stdout",
     "output_type": "stream",
     "text": [
      "List items can be accessed using [index]\n",
      "students[1]:  aaron\n",
      "You can use negative indices to access elements from the back of the list\n",
      "students[-1]:  john\n",
      "You can 'slice' lists using : operator\n",
      "students[1:3] ['aaron', 'cody']\n"
     ]
    }
   ],
   "source": [
    "print(\"List items can be accessed using [index]\")\n",
    "print(\"students[1]: \", students[1])\n",
    "print(\"You can use negative indices to access elements from the back of the list\")\n",
    "print(\"students[-1]: \", students[-1])\n",
    "print(\"You can 'slice' lists using : operator\")\n",
    "print(\"students[1:3]\", students[1:3])"
   ]
  },
  {
   "cell_type": "code",
   "execution_count": 30,
   "metadata": {},
   "outputs": [
    {
     "name": "stdout",
     "output_type": "stream",
     "text": [
      "---Access all elements of the list using a loop\n",
      "bernice\n",
      "aaron\n",
      "cody\n"
     ]
    }
   ],
   "source": [
    "print(\"---Access all elements of the list using a loop\")\n",
    "for student in students:\n",
    "    print(student)"
   ]
  },
  {
   "cell_type": "code",
   "execution_count": 31,
   "metadata": {},
   "outputs": [
    {
     "name": "stdout",
     "output_type": "stream",
     "text": [
      "---Items can be added to a list using the append operation\n",
      "['bernice', 'aaron', 'cody', 'john']\n",
      "\n"
     ]
    }
   ],
   "source": [
    "print(\"---Items can be added to a list using the append operation\")\n",
    "students.append('john')\n",
    "print(students)\n",
    "print(\"\")"
   ]
  },
  {
   "cell_type": "code",
   "execution_count": 32,
   "metadata": {},
   "outputs": [
    {
     "name": "stdout",
     "output_type": "stream",
     "text": [
      "---Length of list can be found using len() function\n",
      "Length of students:  4\n"
     ]
    }
   ],
   "source": [
    "print(\"---Length of list can be found using len() function\")\n",
    "print(\"Length of students: \", len(students))"
   ]
  },
  {
   "cell_type": "markdown",
   "metadata": {},
   "source": [
    "## Dictionary\n",
    "\n",
    "Dictionary is a collection of key value pairs. A dictionary is a collection which is unordered, changeable and does not allow duplicates."
   ]
  },
  {
   "cell_type": "code",
   "execution_count": 63,
   "metadata": {},
   "outputs": [
    {
     "name": "stdout",
     "output_type": "stream",
     "text": [
      "{'brand': 'Ford', 'model': 'Mustang', 'year': 1964}\n"
     ]
    }
   ],
   "source": [
    "my_car = {\n",
    "  \"brand\": \"Ford\",\n",
    "  \"model\": \"Mustang\",\n",
    "  \"year\": 1964\n",
    "}\n",
    "\n",
    "print(my_car)"
   ]
  },
  {
   "cell_type": "code",
   "execution_count": 65,
   "metadata": {},
   "outputs": [
    {
     "name": "stdout",
     "output_type": "stream",
     "text": [
      "Mustang\n"
     ]
    }
   ],
   "source": [
    "# You can access elements similar to lists instead of numbers you give the key\n",
    "print(my_car['model'])"
   ]
  },
  {
   "cell_type": "code",
   "execution_count": 66,
   "metadata": {},
   "outputs": [
    {
     "name": "stdout",
     "output_type": "stream",
     "text": [
      "{'brand': 'Ford', 'model': 'Mustang', 'year': 1964, 'doors': 2}\n"
     ]
    }
   ],
   "source": [
    "# You can add new elements just by assigning a new key\n",
    "# although since it does not allow duplicates, using same key will rewrite value\n",
    "my_car['doors'] = 2\n",
    "print(my_car)\n",
    "\n",
    "my_car['brand'] = Chevy"
   ]
  },
  {
   "cell_type": "markdown",
   "metadata": {},
   "source": [
    "## If Statement\n",
    "\n",
    "It is a flow control statement. An if statement tests for a condition, and then responds to that condition. If the condition is true, then one set of actions is taken else another set of actions is taken. You can test for multiple conditions at the same time, and respond appropriately to each condition."
   ]
  },
  {
   "cell_type": "code",
   "execution_count": 54,
   "metadata": {},
   "outputs": [
    {
     "name": "stdout",
     "output_type": "stream",
     "text": [
      "My favourite dessert Apple Crisp is present :-)\n"
     ]
    }
   ],
   "source": [
    "desserts = ['ice cream', 'chocolate', 'apple crisp', 'cookies']\n",
    "favourite_dessert = 'apple crisp'\n",
    "\n",
    "if favourite_dessert in desserts:\n",
    "    # This dessert is my favorite, let's let everyone know!\n",
    "    print(\"My favourite dessert %s is present :-)\" % favourite_dessert.title())\n",
    "else:\n",
    "    # I like these desserts, but they are not my favorite.\n",
    "    print(\"My favourite dessert is not present :-(\")"
   ]
  },
  {
   "cell_type": "markdown",
   "metadata": {},
   "source": [
    "You can chain multiple using 'elif'. it is else and if combined"
   ]
  },
  {
   "cell_type": "code",
   "execution_count": 55,
   "metadata": {},
   "outputs": [
    {
     "name": "stdout",
     "output_type": "stream",
     "text": [
      "Holy mackerel, we might as well start a dog hostel!\n"
     ]
    }
   ],
   "source": [
    "dogs = ['willie', 'hootz', 'peso', 'monty', 'juno', 'turkey']\n",
    "\n",
    "if len(dogs) >= 5:\n",
    "    print(\"Holy mackerel, we might as well start a dog hostel!\")\n",
    "elif len(dogs) >= 3:\n",
    "    print(\"Wow, we have a lot of dogs here!\")\n",
    "else:\n",
    "    print(\"Okay, this is a reasonable number of dogs.\")"
   ]
  },
  {
   "cell_type": "markdown",
   "metadata": {},
   "source": [
    "## Loop Statements\n",
    "\n",
    "Another type of flow control statement is iteration - it is used to repeat a set of intructions. Overall there are two loops in Python - for and while"
   ]
  },
  {
   "cell_type": "markdown",
   "metadata": {},
   "source": [
    "### While loop\n",
    "\n",
    "The while loop executes the contents of the loop repeatedly as long as the condition in its definition is True. "
   ]
  },
  {
   "cell_type": "code",
   "execution_count": 56,
   "metadata": {},
   "outputs": [
    {
     "name": "stdout",
     "output_type": "stream",
     "text": [
      "You are still playing, because your power is 5.\n",
      "You are still playing, because your power is 4.\n",
      "You are still playing, because your power is 3.\n",
      "You are still playing, because your power is 2.\n",
      "You are still playing, because your power is 1.\n",
      "\n",
      "Oh no, your power dropped to 0! Game Over.\n"
     ]
    }
   ],
   "source": [
    "# The player's power starts out at 5.\n",
    "power = 5\n",
    "\n",
    "# The player is allowed to keep playing as long as their power is over 0.\n",
    "while power > 0:\n",
    "    print(\"You are still playing, because your power is %d.\" % power)\n",
    "    # Your game code would go here, which includes challenges that make it\n",
    "    #   possible to lose power.\n",
    "    # We can represent that by just taking away from the power.\n",
    "    power = power - 1\n",
    "    \n",
    "print(\"\\nOh no, your power dropped to 0! Game Over.\")"
   ]
  },
  {
   "cell_type": "markdown",
   "metadata": {},
   "source": [
    "## For loop\n",
    "\n",
    "Python has only one formal for loop with and the structure is `for <> in <>`. It can be used in different ways to get different functionalities."
   ]
  },
  {
   "cell_type": "code",
   "execution_count": 57,
   "metadata": {},
   "outputs": [
    {
     "name": "stdout",
     "output_type": "stream",
     "text": [
      "0\n",
      "1\n",
      "2\n",
      "3\n",
      "4\n",
      "5\n",
      "6\n",
      "7\n",
      "8\n",
      "9\n"
     ]
    }
   ],
   "source": [
    "# You can iterate over a range of values with steps using range function\n",
    "\n",
    "for i in range(10):\n",
    "    print(i)"
   ]
  },
  {
   "cell_type": "code",
   "execution_count": 58,
   "metadata": {},
   "outputs": [
    {
     "name": "stdout",
     "output_type": "stream",
     "text": [
      "2\n",
      "4\n",
      "6\n",
      "8\n",
      "10\n",
      "12\n",
      "14\n",
      "16\n",
      "18\n"
     ]
    }
   ],
   "source": [
    "for i in range(2, 20, 2):\n",
    "    print(i)"
   ]
  },
  {
   "cell_type": "code",
   "execution_count": 59,
   "metadata": {},
   "outputs": [
    {
     "name": "stdout",
     "output_type": "stream",
     "text": [
      "willie\n",
      "hootz\n",
      "peso\n",
      "monty\n",
      "juno\n",
      "turkey\n"
     ]
    }
   ],
   "source": [
    "# you can iterate over elements of a list - \n",
    "# in fact range() function actually returns a sequence of numbers\n",
    "\n",
    "dogs = ['willie', 'hootz', 'peso', 'monty', 'juno', 'turkey']\n",
    "\n",
    "for dog in dogs:\n",
    "    print(dog)"
   ]
  },
  {
   "cell_type": "code",
   "execution_count": 61,
   "metadata": {},
   "outputs": [
    {
     "name": "stdout",
     "output_type": "stream",
     "text": [
      "0 willie\n",
      "1 hootz\n",
      "2 peso\n",
      "3 monty\n",
      "4 juno\n",
      "5 turkey\n"
     ]
    }
   ],
   "source": [
    "# You can also enumerate the items as you are accessing them using enumerate function\n",
    "\n",
    "for dog_idx, dog in enumerate(dogs):\n",
    "    print(\"%d %s\"%(dog_idx, dog))"
   ]
  },
  {
   "cell_type": "markdown",
   "metadata": {},
   "source": [
    "## Functions\n",
    "\n",
    "A function is a block of code which only runs when it is called.\n",
    "You can pass data, known as parameters, into a function.\n",
    "A function can return data as a result. It is defined using def keyword"
   ]
  },
  {
   "cell_type": "code",
   "execution_count": 71,
   "metadata": {},
   "outputs": [
    {
     "name": "stdout",
     "output_type": "stream",
     "text": [
      "Print from function:  5\n",
      "5\n"
     ]
    }
   ],
   "source": [
    "def add():\n",
    "    a = 2\n",
    "    b = 3\n",
    "    print(\"Print from function: \", a+b)\n",
    "    return a+b\n",
    "\n",
    "print(add())"
   ]
  },
  {
   "cell_type": "code",
   "execution_count": 75,
   "metadata": {},
   "outputs": [
    {
     "name": "stdout",
     "output_type": "stream",
     "text": [
      "Print from function:  5\n",
      "5\n",
      "Print from function:  9\n",
      "9\n"
     ]
    }
   ],
   "source": [
    "def add_parameters(a, b):\n",
    "    print(\"Print from function: \", a+b)\n",
    "    return a+b\n",
    "\n",
    "print(add_parameters(2, 3))\n",
    "print(add_parameters(4, 5))"
   ]
  }
 ],
 "metadata": {
  "kernelspec": {
   "display_name": "Python 3",
   "language": "python",
   "name": "python3"
  },
  "language_info": {
   "codemirror_mode": {
    "name": "ipython",
    "version": 3
   },
   "file_extension": ".py",
   "mimetype": "text/x-python",
   "name": "python",
   "nbconvert_exporter": "python",
   "pygments_lexer": "ipython3",
   "version": "3.7.9"
  }
 },
 "nbformat": 4,
 "nbformat_minor": 4
}
